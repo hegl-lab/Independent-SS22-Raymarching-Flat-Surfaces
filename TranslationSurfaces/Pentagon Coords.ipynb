{
 "cells": [
  {
   "cell_type": "code",
   "execution_count": 3,
   "id": "5050ae86",
   "metadata": {},
   "outputs": [
    {
     "name": "stdout",
     "output_type": "stream",
     "text": [
      "Center: 1.618033988749895\n",
      "Right pentagon:\n",
      " [[ 2.23606798e+00 -1.90211303e+00]\n",
      " [ 0.00000000e+00 -1.17557050e+00]\n",
      " [ 2.22044605e-16  1.17557050e+00]\n",
      " [ 2.23606798e+00  1.90211303e+00]\n",
      " [ 3.61803399e+00  0.00000000e+00]]\n",
      "Left pentagon:\n",
      " [[-2.23606798e+00 -1.90211303e+00]\n",
      " [-0.00000000e+00 -1.17557050e+00]\n",
      " [-2.22044605e-16  1.17557050e+00]\n",
      " [-2.23606798e+00  1.90211303e+00]\n",
      " [-3.61803399e+00  0.00000000e+00]]\n",
      "Translation vectors:\n",
      " [[-5.85410197e+00 -1.90211303e+00]\n",
      " [-2.23606798e+00 -3.07768354e+00]\n",
      " [-4.44089210e-16  0.00000000e+00]\n",
      " [-2.23606798e+00  3.07768354e+00]\n",
      " [-5.85410197e+00  1.90211303e+00]]\n"
     ]
    }
   ],
   "source": [
    "import numpy as np\n",
    "import random\n",
    "scale = 2\n",
    "vertices = [np.exp(2*np.pi*1j*k/5) for k in range(5)]\n",
    "vertices = np.array([ [np.real(vertex), np.imag(vertex)] for vertex in vertices])\n",
    "b =np.linalg.norm(vertices[0]- vertices[1])*0.5\n",
    "center = np.sqrt(1-b**2)\n",
    "print(\"Center:\", scale*center)\n",
    "vertices_right = scale*(vertices + np.array([center,0]))\n",
    "vertices_left = np.array([-1,1])*vertices_right[::-1]\n",
    "translation_rules = vertices_left-vertices_right\n",
    "print(\"Right pentagon:\\n\",vertices_right[::-1])\n",
    "print(\"Left pentagon:\\n\",vertices_left)\n",
    "print(\"Translation vectors:\\n\",translation_rules)"
   ]
  },
  {
   "cell_type": "code",
   "execution_count": 2,
   "id": "7c83d2d3",
   "metadata": {},
   "outputs": [
    {
     "data": {
      "image/png": "[encoded data removed]",
      "text/plain": [
       "<Figure size 432x288 with 1 Axes>"
      ]
     },
     "metadata": {
      "needs_background": "light"
     },
     "output_type": "display_data"
    }
   ],
   "source": [
    "import matplotlib.pyplot as plt\n",
    "\n",
    "xs, ys = zip(*vertices_right) #create lists of x and y values\n",
    "\n",
    "plt.plot(xs, ys)\n",
    "\n",
    "xs, ys = zip(*vertices_left) #create lists of x and y values\n",
    "\n",
    "plt.plot(xs, ys)\n",
    "\n",
    "for translation in translation_rules:\n",
    "    plt.plot()\n"
   ]
  },
  {
   "cell_type": "code",
   "execution_count": 9,
   "id": "a9d37f2b",
   "metadata": {},
   "outputs": [
    {
     "name": "stdout",
     "output_type": "stream",
     "text": [
      "[array([2.92705098, 0.95105652]), array([1.11803399, 1.53884177]), array([1.11022302e-16, 2.22044605e-16]), array([ 1.11803399, -1.53884177]), array([ 2.92705098, -0.95105652])]\n",
      "[2.199114857512855, 0.3141592653589791, 1.5707963267948966, 2.8274333882308142, 0.9424777960769379]\n"
     ]
    }
   ],
   "source": [
    "cws = []\n",
    "angles = []\n",
    "n = len(vertices_right)\n",
    "for i in range(len(vertices_right)):\n",
    "    cws.append(0.5*(vertices_right[i] + vertices_right[(i+1)%n]))\n",
    "    d = vertices_right[i] - vertices_right[(i+1)%n]\n",
    "    d *= np.sign(d[1])\n",
    "    angles.append(np.arccos(d[0]/np.linalg.norm(d)))\n",
    "\n",
    "print(cws)\n",
    "print(angles)"
   ]
  },
  {
   "cell_type": "code",
   "execution_count": 11,
   "id": "3f93de65",
   "metadata": {},
   "outputs": [
    {
     "name": "stdout",
     "output_type": "stream",
     "text": [
      "2.3511410091698925\n"
     ]
    }
   ],
   "source": [
    "print(np.linalg.norm(vertices_right[0]-vertices_right[1]))"
   ]
  },
  {
   "cell_type": "code",
   "execution_count": 9,
   "id": "bb4ffb15",
   "metadata": {},
   "outputs": [
    {
     "name": "stdout",
     "output_type": "stream",
     "text": [
      "-2.384651586395572\n",
      "-4.992872661172636\n",
      "-1.993204983878235\n",
      "-3.4712152739916844\n",
      "1.4616270226297867\n",
      "1.531803776388313\n",
      "0.7370181557748601\n",
      "-3.672739741299229\n",
      "1.6100337505422924\n",
      "0.004821044320938439\n",
      "-1.7719338267916962\n",
      "-2.5816143931237012\n",
      "-3.4028242413160847\n",
      "2.8603954328851677\n",
      "3.1395541998815424\n",
      "-1.3779836690227576\n",
      "3.198415606657863\n",
      "0.4750072929153648\n",
      "4.340126549174977\n",
      "3.4042578052234083\n",
      "-2.139463757772443\n",
      "-3.629608008070101\n",
      "2.0006207831907883\n",
      "-0.5972803062778353\n",
      "2.6041023253153908\n"
     ]
    }
   ],
   "source": [
    "for i in range(25):\n",
    "    print(10*(random.random()-0.5))\n",
    "    "
   ]
  },
  {
   "cell_type": "code",
   "execution_count": 6,
   "id": "165c8db4",
   "metadata": {},
   "outputs": [
    {
     "data": {
      "text/plain": [
       "1.5707963267948966"
      ]
     },
     "execution_count": 6,
     "metadata": {},
     "output_type": "execute_result"
    }
   ],
   "source": [
    "np.pi/2"
   ]
  },
  {
   "cell_type": "code",
   "execution_count": null,
   "id": "8331c8b1",
   "metadata": {},
   "outputs": [],
   "source": []
  }
 ],
 "metadata": {
  "kernelspec": {
   "display_name": "Python 3.9.2 64-bit",
   "language": "python",
   "name": "python3"
  },
  "language_info": {
   "codemirror_mode": {
    "name": "ipython",
    "version": 3
   },
   "file_extension": ".py",
   "mimetype": "text/x-python",
   "name": "python",
   "nbconvert_exporter": "python",
   "pygments_lexer": "ipython3",
   "version": "3.9.2"
  },
  "vscode": {
   "interpreter": {
    "hash": "81794d4967e6c3204c66dcd87b604927b115b27c00565d3d43f05ba2f3a2cb0d"
   }
  }
 },
 "nbformat": 4,
 "nbformat_minor": 5
}
